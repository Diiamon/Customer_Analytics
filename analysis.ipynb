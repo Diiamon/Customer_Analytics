{
 "cells": [
  {
   "cell_type": "markdown",
   "id": "08347632-b4de-4e4c-a663-df3275646092",
   "metadata": {},
   "source": [
    "# Customer Segmentation and Targeted Marketing Analysis"
   ]
  },
  {
   "cell_type": "markdown",
   "id": "5a26f023-b20d-4d17-bc4f-5afd23eb48c4",
   "metadata": {},
   "source": [
    "## **Introduction**\n",
    "Understanding customer behavior is crucial for businesses aiming to enhance their marketing strategies and maximize revenue. This analysis focuses on **customer segmentation**, enabling businesses to identify distinct customer groups based on their demographics, purchasing behavior, and responsiveness to marketing campaigns. By leveraging these insights, companies can tailor their marketing efforts, improve customer retention, and increase sales.\n",
    "\n",
    "This project utilizes a dataset that contains detailed customer information, including **demographics, purchasing habits, marketing engagement, and online activity**. The goal is to analyze this data, uncover meaningful patterns, and provide actionable recommendations for targeted marketing.\n",
    "\n",
    "---\n",
    "\n",
    "## **About the Dataset**\n",
    "The dataset consists of various attributes categorized into **People, Products, Promotions, and Place**:\n",
    "\n",
    "### **1. People (Customer Demographics)**\n",
    "- **ID**: Unique identifier for each customer.\n",
    "- **Year_Birth**: Year of birth.\n",
    "- **Education**: Highest level of education attained.\n",
    "- **Marital_Status**: Current marital status.\n",
    "- **Income**: Annual household income.\n",
    "- **Kidhome**: Number of children in the household.\n",
    "- **Teenhome**: Number of teenagers in the household.\n",
    "- **Dt_Customer**: Date the customer enrolled with the company.\n",
    "- **Recency**: Number of days since the customer's last purchase.\n",
    "- **Complain**: Whether the customer has made a complaint in the past two years (1 = Yes, 0 = No).\n",
    "\n",
    "### **2. Products (Purchasing Behavior)**\n",
    "- **MntWines**: Amount spent on wine in the last two years.\n",
    "- **MntFruits**: Amount spent on fruits in the last two years.\n",
    "- **MntMeatProducts**: Amount spent on meat in the last two years.\n",
    "- **MntFishProducts**: Amount spent on fish in the last two years.\n",
    "- **MntSweetProducts**: Amount spent on sweets in the last two years.\n",
    "- **MntGoldProds**: Amount spent on gold-related products in the last two years.\n",
    "\n",
    "### **3. Promotion (Marketing Engagement)**\n",
    "- **NumDealsPurchases**: Number of purchases made with a discount.\n",
    "- **AcceptedCmp1-5**: Whether the customer accepted promotional offers in five different campaigns (1 = Yes, 0 = No).\n",
    "- **Response**: Whether the customer accepted the offer in the most recent campaign (1 = Yes, 0 = No).\n",
    "\n",
    "### **4. Place (Purchase Channels)**\n",
    "- **NumWebPurchases**: Number of purchases made through the company's website.\n",
    "- **NumCatalogPurchases**: Number of purchases made using a catalog.\n",
    "- **NumStorePurchases**: Number of purchases made directly in physical stores.\n",
    "- **NumWebVisitsMonth**: Number of visits to the company’s website in the last month.\n",
    "\n",
    "---\n",
    "\n",
    "This dataset will be analyzed to uncover trends in customer spending, response to marketing campaigns, and preferred purchasing channels. The findings will help optimize marketing strategies, improve customer engagement, and drive higher revenue through targeted marketing efforts.\n"
   ]
  },
  {
   "cell_type": "markdown",
   "id": "83a50dbf-7d93-475f-abfc-27e270030154",
   "metadata": {},
   "source": [
    "## Step 1: Load & Preprocess Data"
   ]
  },
  {
   "cell_type": "markdown",
   "id": "310c3f9c-f35b-4f42-b7a6-1aef7f967ec4",
   "metadata": {},
   "source": [
    "### Load Data in Python"
   ]
  },
  {
   "cell_type": "code",
   "execution_count": 185,
   "id": "ca88a755-1160-41f9-91e5-e94c2e45a058",
   "metadata": {},
   "outputs": [],
   "source": [
    "import pandas as pd\n",
    "import matplotlib.pyplot as plt\n",
    "import seaborn as sns\n",
    "\n",
    "from sklearn.preprocessing import StandardScaler\n",
    "from sklearn.cluster import KMeans\n",
    "\n",
    "from sklearn.model_selection import train_test_split\n",
    "from sklearn.ensemble import RandomForestClassifier\n",
    "from sklearn.metrics import accuracy_score\n",
    "from sklearn.metrics import confusion_matrix, ConfusionMatrixDisplay\n",
    "from sklearn.metrics import classification_report, roc_auc_score\n",
    "from imblearn.over_sampling import SMOTE"
   ]
  },
  {
   "cell_type": "code",
   "execution_count": 12,
   "id": "498f9ccd-afc9-47b5-8ec1-e4bc259a5222",
   "metadata": {},
   "outputs": [
    {
     "data": {
      "text/html": [
       "<div>\n",
       "<style scoped>\n",
       "    .dataframe tbody tr th:only-of-type {\n",
       "        vertical-align: middle;\n",
       "    }\n",
       "\n",
       "    .dataframe tbody tr th {\n",
       "        vertical-align: top;\n",
       "    }\n",
       "\n",
       "    .dataframe thead th {\n",
       "        text-align: right;\n",
       "    }\n",
       "</style>\n",
       "<table border=\"1\" class=\"dataframe\">\n",
       "  <thead>\n",
       "    <tr style=\"text-align: right;\">\n",
       "      <th></th>\n",
       "      <th>ID</th>\n",
       "      <th>Year_Birth</th>\n",
       "      <th>Education</th>\n",
       "      <th>Marital_Status</th>\n",
       "      <th>Income</th>\n",
       "      <th>Kidhome</th>\n",
       "      <th>Teenhome</th>\n",
       "      <th>Dt_Customer</th>\n",
       "      <th>Recency</th>\n",
       "      <th>MntWines</th>\n",
       "      <th>...</th>\n",
       "      <th>NumWebVisitsMonth</th>\n",
       "      <th>AcceptedCmp3</th>\n",
       "      <th>AcceptedCmp4</th>\n",
       "      <th>AcceptedCmp5</th>\n",
       "      <th>AcceptedCmp1</th>\n",
       "      <th>AcceptedCmp2</th>\n",
       "      <th>Complain</th>\n",
       "      <th>Z_CostContact</th>\n",
       "      <th>Z_Revenue</th>\n",
       "      <th>Response</th>\n",
       "    </tr>\n",
       "  </thead>\n",
       "  <tbody>\n",
       "    <tr>\n",
       "      <th>0</th>\n",
       "      <td>5524</td>\n",
       "      <td>1957</td>\n",
       "      <td>Graduation</td>\n",
       "      <td>Single</td>\n",
       "      <td>58138.0</td>\n",
       "      <td>0</td>\n",
       "      <td>0</td>\n",
       "      <td>04/09/2012</td>\n",
       "      <td>58</td>\n",
       "      <td>635</td>\n",
       "      <td>...</td>\n",
       "      <td>7</td>\n",
       "      <td>0</td>\n",
       "      <td>0</td>\n",
       "      <td>0</td>\n",
       "      <td>0</td>\n",
       "      <td>0</td>\n",
       "      <td>0</td>\n",
       "      <td>3</td>\n",
       "      <td>11</td>\n",
       "      <td>1</td>\n",
       "    </tr>\n",
       "    <tr>\n",
       "      <th>1</th>\n",
       "      <td>2174</td>\n",
       "      <td>1954</td>\n",
       "      <td>Graduation</td>\n",
       "      <td>Single</td>\n",
       "      <td>46344.0</td>\n",
       "      <td>1</td>\n",
       "      <td>1</td>\n",
       "      <td>08/03/2014</td>\n",
       "      <td>38</td>\n",
       "      <td>11</td>\n",
       "      <td>...</td>\n",
       "      <td>5</td>\n",
       "      <td>0</td>\n",
       "      <td>0</td>\n",
       "      <td>0</td>\n",
       "      <td>0</td>\n",
       "      <td>0</td>\n",
       "      <td>0</td>\n",
       "      <td>3</td>\n",
       "      <td>11</td>\n",
       "      <td>0</td>\n",
       "    </tr>\n",
       "    <tr>\n",
       "      <th>2</th>\n",
       "      <td>4141</td>\n",
       "      <td>1965</td>\n",
       "      <td>Graduation</td>\n",
       "      <td>Together</td>\n",
       "      <td>71613.0</td>\n",
       "      <td>0</td>\n",
       "      <td>0</td>\n",
       "      <td>21/08/2013</td>\n",
       "      <td>26</td>\n",
       "      <td>426</td>\n",
       "      <td>...</td>\n",
       "      <td>4</td>\n",
       "      <td>0</td>\n",
       "      <td>0</td>\n",
       "      <td>0</td>\n",
       "      <td>0</td>\n",
       "      <td>0</td>\n",
       "      <td>0</td>\n",
       "      <td>3</td>\n",
       "      <td>11</td>\n",
       "      <td>0</td>\n",
       "    </tr>\n",
       "    <tr>\n",
       "      <th>3</th>\n",
       "      <td>6182</td>\n",
       "      <td>1984</td>\n",
       "      <td>Graduation</td>\n",
       "      <td>Together</td>\n",
       "      <td>26646.0</td>\n",
       "      <td>1</td>\n",
       "      <td>0</td>\n",
       "      <td>10/02/2014</td>\n",
       "      <td>26</td>\n",
       "      <td>11</td>\n",
       "      <td>...</td>\n",
       "      <td>6</td>\n",
       "      <td>0</td>\n",
       "      <td>0</td>\n",
       "      <td>0</td>\n",
       "      <td>0</td>\n",
       "      <td>0</td>\n",
       "      <td>0</td>\n",
       "      <td>3</td>\n",
       "      <td>11</td>\n",
       "      <td>0</td>\n",
       "    </tr>\n",
       "    <tr>\n",
       "      <th>4</th>\n",
       "      <td>5324</td>\n",
       "      <td>1981</td>\n",
       "      <td>PhD</td>\n",
       "      <td>Married</td>\n",
       "      <td>58293.0</td>\n",
       "      <td>1</td>\n",
       "      <td>0</td>\n",
       "      <td>19/01/2014</td>\n",
       "      <td>94</td>\n",
       "      <td>173</td>\n",
       "      <td>...</td>\n",
       "      <td>5</td>\n",
       "      <td>0</td>\n",
       "      <td>0</td>\n",
       "      <td>0</td>\n",
       "      <td>0</td>\n",
       "      <td>0</td>\n",
       "      <td>0</td>\n",
       "      <td>3</td>\n",
       "      <td>11</td>\n",
       "      <td>0</td>\n",
       "    </tr>\n",
       "  </tbody>\n",
       "</table>\n",
       "<p>5 rows × 29 columns</p>\n",
       "</div>"
      ],
      "text/plain": [
       "     ID  Year_Birth   Education Marital_Status   Income  Kidhome  Teenhome  \\\n",
       "0  5524        1957  Graduation         Single  58138.0        0         0   \n",
       "1  2174        1954  Graduation         Single  46344.0        1         1   \n",
       "2  4141        1965  Graduation       Together  71613.0        0         0   \n",
       "3  6182        1984  Graduation       Together  26646.0        1         0   \n",
       "4  5324        1981         PhD        Married  58293.0        1         0   \n",
       "\n",
       "  Dt_Customer  Recency  MntWines  ...  NumWebVisitsMonth  AcceptedCmp3  \\\n",
       "0  04/09/2012       58       635  ...                  7             0   \n",
       "1  08/03/2014       38        11  ...                  5             0   \n",
       "2  21/08/2013       26       426  ...                  4             0   \n",
       "3  10/02/2014       26        11  ...                  6             0   \n",
       "4  19/01/2014       94       173  ...                  5             0   \n",
       "\n",
       "   AcceptedCmp4  AcceptedCmp5  AcceptedCmp1  AcceptedCmp2  Complain  \\\n",
       "0             0             0             0             0         0   \n",
       "1             0             0             0             0         0   \n",
       "2             0             0             0             0         0   \n",
       "3             0             0             0             0         0   \n",
       "4             0             0             0             0         0   \n",
       "\n",
       "   Z_CostContact  Z_Revenue  Response  \n",
       "0              3         11         1  \n",
       "1              3         11         0  \n",
       "2              3         11         0  \n",
       "3              3         11         0  \n",
       "4              3         11         0  \n",
       "\n",
       "[5 rows x 29 columns]"
      ]
     },
     "execution_count": 12,
     "metadata": {},
     "output_type": "execute_result"
    }
   ],
   "source": [
    "# Load dataset\n",
    "df = pd.read_csv(\"marketing_campaign_transformed.csv\")\n",
    "\n",
    "# Display first few rows\n",
    "df.head()"
   ]
  },
  {
   "cell_type": "code",
   "execution_count": 200,
   "id": "08cb79b9-1213-4f14-81a4-6f51715cbe67",
   "metadata": {},
   "outputs": [
    {
     "data": {
      "text/html": [
       "<div>\n",
       "<style scoped>\n",
       "    .dataframe tbody tr th:only-of-type {\n",
       "        vertical-align: middle;\n",
       "    }\n",
       "\n",
       "    .dataframe tbody tr th {\n",
       "        vertical-align: top;\n",
       "    }\n",
       "\n",
       "    .dataframe thead th {\n",
       "        text-align: right;\n",
       "    }\n",
       "</style>\n",
       "<table border=\"1\" class=\"dataframe\">\n",
       "  <thead>\n",
       "    <tr style=\"text-align: right;\">\n",
       "      <th></th>\n",
       "      <th>MntWines</th>\n",
       "      <th>MntFruits</th>\n",
       "      <th>MntMeatProducts</th>\n",
       "      <th>MntFishProducts</th>\n",
       "      <th>MntSweetProducts</th>\n",
       "      <th>MntGoldProds</th>\n",
       "    </tr>\n",
       "  </thead>\n",
       "  <tbody>\n",
       "    <tr>\n",
       "      <th>0</th>\n",
       "      <td>635</td>\n",
       "      <td>88</td>\n",
       "      <td>546</td>\n",
       "      <td>172</td>\n",
       "      <td>88</td>\n",
       "      <td>88</td>\n",
       "    </tr>\n",
       "  </tbody>\n",
       "</table>\n",
       "</div>"
      ],
      "text/plain": [
       "   MntWines  MntFruits  MntMeatProducts  MntFishProducts  MntSweetProducts  \\\n",
       "0       635         88              546              172                88   \n",
       "\n",
       "   MntGoldProds  \n",
       "0            88  "
      ]
     },
     "execution_count": 200,
     "metadata": {},
     "output_type": "execute_result"
    }
   ],
   "source": [
    "df.loc[df['ID'] == 5524, 'MntWines':'MntGoldProds']"
   ]
  },
  {
   "cell_type": "markdown",
   "id": "8493104c-d534-427e-bd3b-b13f30cda9ad",
   "metadata": {},
   "source": [
    "### Check for Missing Values"
   ]
  },
  {
   "cell_type": "code",
   "execution_count": 17,
   "id": "9d401960-12a5-4574-a82e-0a4ca3c52528",
   "metadata": {},
   "outputs": [
    {
     "data": {
      "text/plain": [
       "(2240, 29)"
      ]
     },
     "execution_count": 17,
     "metadata": {},
     "output_type": "execute_result"
    }
   ],
   "source": [
    "df.shape"
   ]
  },
  {
   "cell_type": "code",
   "execution_count": 15,
   "id": "02917ff8-4309-4a54-bd12-54bebdcdd70f",
   "metadata": {},
   "outputs": [
    {
     "name": "stdout",
     "output_type": "stream",
     "text": [
      "ID                      0\n",
      "Year_Birth              0\n",
      "Education               0\n",
      "Marital_Status          0\n",
      "Income                 24\n",
      "Kidhome                 0\n",
      "Teenhome                0\n",
      "Dt_Customer             0\n",
      "Recency                 0\n",
      "MntWines                0\n",
      "MntFruits               0\n",
      "MntMeatProducts         0\n",
      "MntFishProducts         0\n",
      "MntSweetProducts        0\n",
      "MntGoldProds            0\n",
      "NumDealsPurchases       0\n",
      "NumWebPurchases         0\n",
      "NumCatalogPurchases     0\n",
      "NumStorePurchases       0\n",
      "NumWebVisitsMonth       0\n",
      "AcceptedCmp3            0\n",
      "AcceptedCmp4            0\n",
      "AcceptedCmp5            0\n",
      "AcceptedCmp1            0\n",
      "AcceptedCmp2            0\n",
      "Complain                0\n",
      "Z_CostContact           0\n",
      "Z_Revenue               0\n",
      "Response                0\n",
      "dtype: int64\n"
     ]
    }
   ],
   "source": [
    "# Check for missing values\n",
    "print(df.isnull().sum())"
   ]
  },
  {
   "cell_type": "code",
   "execution_count": 19,
   "id": "4aef0e59-d602-43fd-aebd-5dc3bc14f75d",
   "metadata": {},
   "outputs": [],
   "source": [
    "# Dropping missing values since it is a small amount compared to the sixe of the dataset\n",
    "df.dropna(inplace=True)"
   ]
  },
  {
   "cell_type": "code",
   "execution_count": 21,
   "id": "0fdfc670-693a-4e46-9f75-edee5ddca997",
   "metadata": {},
   "outputs": [
    {
     "name": "stdout",
     "output_type": "stream",
     "text": [
      "ID                     0\n",
      "Year_Birth             0\n",
      "Education              0\n",
      "Marital_Status         0\n",
      "Income                 0\n",
      "Kidhome                0\n",
      "Teenhome               0\n",
      "Dt_Customer            0\n",
      "Recency                0\n",
      "MntWines               0\n",
      "MntFruits              0\n",
      "MntMeatProducts        0\n",
      "MntFishProducts        0\n",
      "MntSweetProducts       0\n",
      "MntGoldProds           0\n",
      "NumDealsPurchases      0\n",
      "NumWebPurchases        0\n",
      "NumCatalogPurchases    0\n",
      "NumStorePurchases      0\n",
      "NumWebVisitsMonth      0\n",
      "AcceptedCmp3           0\n",
      "AcceptedCmp4           0\n",
      "AcceptedCmp5           0\n",
      "AcceptedCmp1           0\n",
      "AcceptedCmp2           0\n",
      "Complain               0\n",
      "Z_CostContact          0\n",
      "Z_Revenue              0\n",
      "Response               0\n",
      "dtype: int64\n"
     ]
    }
   ],
   "source": [
    "# Check for missing values\n",
    "print(df.isnull().sum())"
   ]
  },
  {
   "cell_type": "markdown",
   "id": "8cc31159-6ed9-491e-beae-9a09f48a0209",
   "metadata": {},
   "source": [
    "## Step 2: Exploratory Data Analysis (EDA)"
   ]
  },
  {
   "cell_type": "markdown",
   "id": "6116c276-7603-451c-824d-bbe29ec5aa8f",
   "metadata": {},
   "source": [
    "### Summary Statistics"
   ]
  },
  {
   "cell_type": "code",
   "execution_count": 102,
   "id": "512f1a98-18cf-4dee-86b3-e55abca0a41b",
   "metadata": {},
   "outputs": [
    {
     "data": {
      "text/plain": [
       "Index(['ID', 'Year_Birth', 'Education', 'Marital_Status', 'Income', 'Kidhome',\n",
       "       'Teenhome', 'Dt_Customer', 'Recency', 'MntWines', 'MntFruits',\n",
       "       'MntMeatProducts', 'MntFishProducts', 'MntSweetProducts',\n",
       "       'MntGoldProds', 'NumDealsPurchases', 'NumWebPurchases',\n",
       "       'NumCatalogPurchases', 'NumStorePurchases', 'NumWebVisitsMonth',\n",
       "       'AcceptedCmp3', 'AcceptedCmp4', 'AcceptedCmp5', 'AcceptedCmp1',\n",
       "       'AcceptedCmp2', 'Complain', 'Z_CostContact', 'Z_Revenue', 'Response'],\n",
       "      dtype='object')"
      ]
     },
     "execution_count": 102,
     "metadata": {},
     "output_type": "execute_result"
    }
   ],
   "source": [
    "df.columns"
   ]
  },
  {
   "cell_type": "code",
   "execution_count": 42,
   "id": "23d1cff4-9590-4572-a9bc-c907eba3ce83",
   "metadata": {},
   "outputs": [
    {
     "data": {
      "text/html": [
       "<div>\n",
       "<style scoped>\n",
       "    .dataframe tbody tr th:only-of-type {\n",
       "        vertical-align: middle;\n",
       "    }\n",
       "\n",
       "    .dataframe tbody tr th {\n",
       "        vertical-align: top;\n",
       "    }\n",
       "\n",
       "    .dataframe thead th {\n",
       "        text-align: right;\n",
       "    }\n",
       "</style>\n",
       "<table border=\"1\" class=\"dataframe\">\n",
       "  <thead>\n",
       "    <tr style=\"text-align: right;\">\n",
       "      <th></th>\n",
       "      <th>ID</th>\n",
       "      <th>Year_Birth</th>\n",
       "      <th>Income</th>\n",
       "      <th>Kidhome</th>\n",
       "      <th>Teenhome</th>\n",
       "      <th>Recency</th>\n",
       "      <th>MntWines</th>\n",
       "      <th>MntFruits</th>\n",
       "      <th>MntMeatProducts</th>\n",
       "      <th>MntFishProducts</th>\n",
       "      <th>...</th>\n",
       "      <th>NumWebVisitsMonth</th>\n",
       "      <th>AcceptedCmp3</th>\n",
       "      <th>AcceptedCmp4</th>\n",
       "      <th>AcceptedCmp5</th>\n",
       "      <th>AcceptedCmp1</th>\n",
       "      <th>AcceptedCmp2</th>\n",
       "      <th>Complain</th>\n",
       "      <th>Z_CostContact</th>\n",
       "      <th>Z_Revenue</th>\n",
       "      <th>Response</th>\n",
       "    </tr>\n",
       "  </thead>\n",
       "  <tbody>\n",
       "    <tr>\n",
       "      <th>count</th>\n",
       "      <td>2216.000000</td>\n",
       "      <td>2216.000000</td>\n",
       "      <td>2216.000000</td>\n",
       "      <td>2216.000000</td>\n",
       "      <td>2216.000000</td>\n",
       "      <td>2216.000000</td>\n",
       "      <td>2216.000000</td>\n",
       "      <td>2216.000000</td>\n",
       "      <td>2216.000000</td>\n",
       "      <td>2216.000000</td>\n",
       "      <td>...</td>\n",
       "      <td>2216.000000</td>\n",
       "      <td>2216.000000</td>\n",
       "      <td>2216.000000</td>\n",
       "      <td>2216.000000</td>\n",
       "      <td>2216.000000</td>\n",
       "      <td>2216.000000</td>\n",
       "      <td>2216.000000</td>\n",
       "      <td>2216.0</td>\n",
       "      <td>2216.0</td>\n",
       "      <td>2216.000000</td>\n",
       "    </tr>\n",
       "    <tr>\n",
       "      <th>mean</th>\n",
       "      <td>5588.353339</td>\n",
       "      <td>1968.820397</td>\n",
       "      <td>52247.251354</td>\n",
       "      <td>0.441787</td>\n",
       "      <td>0.505415</td>\n",
       "      <td>49.012635</td>\n",
       "      <td>305.091606</td>\n",
       "      <td>26.356047</td>\n",
       "      <td>166.995939</td>\n",
       "      <td>37.637635</td>\n",
       "      <td>...</td>\n",
       "      <td>5.319043</td>\n",
       "      <td>0.073556</td>\n",
       "      <td>0.074007</td>\n",
       "      <td>0.073105</td>\n",
       "      <td>0.064079</td>\n",
       "      <td>0.013538</td>\n",
       "      <td>0.009477</td>\n",
       "      <td>3.0</td>\n",
       "      <td>11.0</td>\n",
       "      <td>0.150271</td>\n",
       "    </tr>\n",
       "    <tr>\n",
       "      <th>std</th>\n",
       "      <td>3249.376275</td>\n",
       "      <td>11.985554</td>\n",
       "      <td>25173.076661</td>\n",
       "      <td>0.536896</td>\n",
       "      <td>0.544181</td>\n",
       "      <td>28.948352</td>\n",
       "      <td>337.327920</td>\n",
       "      <td>39.793917</td>\n",
       "      <td>224.283273</td>\n",
       "      <td>54.752082</td>\n",
       "      <td>...</td>\n",
       "      <td>2.425359</td>\n",
       "      <td>0.261106</td>\n",
       "      <td>0.261842</td>\n",
       "      <td>0.260367</td>\n",
       "      <td>0.244950</td>\n",
       "      <td>0.115588</td>\n",
       "      <td>0.096907</td>\n",
       "      <td>0.0</td>\n",
       "      <td>0.0</td>\n",
       "      <td>0.357417</td>\n",
       "    </tr>\n",
       "    <tr>\n",
       "      <th>min</th>\n",
       "      <td>0.000000</td>\n",
       "      <td>1893.000000</td>\n",
       "      <td>1730.000000</td>\n",
       "      <td>0.000000</td>\n",
       "      <td>0.000000</td>\n",
       "      <td>0.000000</td>\n",
       "      <td>0.000000</td>\n",
       "      <td>0.000000</td>\n",
       "      <td>0.000000</td>\n",
       "      <td>0.000000</td>\n",
       "      <td>...</td>\n",
       "      <td>0.000000</td>\n",
       "      <td>0.000000</td>\n",
       "      <td>0.000000</td>\n",
       "      <td>0.000000</td>\n",
       "      <td>0.000000</td>\n",
       "      <td>0.000000</td>\n",
       "      <td>0.000000</td>\n",
       "      <td>3.0</td>\n",
       "      <td>11.0</td>\n",
       "      <td>0.000000</td>\n",
       "    </tr>\n",
       "    <tr>\n",
       "      <th>25%</th>\n",
       "      <td>2814.750000</td>\n",
       "      <td>1959.000000</td>\n",
       "      <td>35303.000000</td>\n",
       "      <td>0.000000</td>\n",
       "      <td>0.000000</td>\n",
       "      <td>24.000000</td>\n",
       "      <td>24.000000</td>\n",
       "      <td>2.000000</td>\n",
       "      <td>16.000000</td>\n",
       "      <td>3.000000</td>\n",
       "      <td>...</td>\n",
       "      <td>3.000000</td>\n",
       "      <td>0.000000</td>\n",
       "      <td>0.000000</td>\n",
       "      <td>0.000000</td>\n",
       "      <td>0.000000</td>\n",
       "      <td>0.000000</td>\n",
       "      <td>0.000000</td>\n",
       "      <td>3.0</td>\n",
       "      <td>11.0</td>\n",
       "      <td>0.000000</td>\n",
       "    </tr>\n",
       "    <tr>\n",
       "      <th>50%</th>\n",
       "      <td>5458.500000</td>\n",
       "      <td>1970.000000</td>\n",
       "      <td>51381.500000</td>\n",
       "      <td>0.000000</td>\n",
       "      <td>0.000000</td>\n",
       "      <td>49.000000</td>\n",
       "      <td>174.500000</td>\n",
       "      <td>8.000000</td>\n",
       "      <td>68.000000</td>\n",
       "      <td>12.000000</td>\n",
       "      <td>...</td>\n",
       "      <td>6.000000</td>\n",
       "      <td>0.000000</td>\n",
       "      <td>0.000000</td>\n",
       "      <td>0.000000</td>\n",
       "      <td>0.000000</td>\n",
       "      <td>0.000000</td>\n",
       "      <td>0.000000</td>\n",
       "      <td>3.0</td>\n",
       "      <td>11.0</td>\n",
       "      <td>0.000000</td>\n",
       "    </tr>\n",
       "    <tr>\n",
       "      <th>75%</th>\n",
       "      <td>8421.750000</td>\n",
       "      <td>1977.000000</td>\n",
       "      <td>68522.000000</td>\n",
       "      <td>1.000000</td>\n",
       "      <td>1.000000</td>\n",
       "      <td>74.000000</td>\n",
       "      <td>505.000000</td>\n",
       "      <td>33.000000</td>\n",
       "      <td>232.250000</td>\n",
       "      <td>50.000000</td>\n",
       "      <td>...</td>\n",
       "      <td>7.000000</td>\n",
       "      <td>0.000000</td>\n",
       "      <td>0.000000</td>\n",
       "      <td>0.000000</td>\n",
       "      <td>0.000000</td>\n",
       "      <td>0.000000</td>\n",
       "      <td>0.000000</td>\n",
       "      <td>3.0</td>\n",
       "      <td>11.0</td>\n",
       "      <td>0.000000</td>\n",
       "    </tr>\n",
       "    <tr>\n",
       "      <th>max</th>\n",
       "      <td>11191.000000</td>\n",
       "      <td>1996.000000</td>\n",
       "      <td>666666.000000</td>\n",
       "      <td>2.000000</td>\n",
       "      <td>2.000000</td>\n",
       "      <td>99.000000</td>\n",
       "      <td>1493.000000</td>\n",
       "      <td>199.000000</td>\n",
       "      <td>1725.000000</td>\n",
       "      <td>259.000000</td>\n",
       "      <td>...</td>\n",
       "      <td>20.000000</td>\n",
       "      <td>1.000000</td>\n",
       "      <td>1.000000</td>\n",
       "      <td>1.000000</td>\n",
       "      <td>1.000000</td>\n",
       "      <td>1.000000</td>\n",
       "      <td>1.000000</td>\n",
       "      <td>3.0</td>\n",
       "      <td>11.0</td>\n",
       "      <td>1.000000</td>\n",
       "    </tr>\n",
       "  </tbody>\n",
       "</table>\n",
       "<p>8 rows × 26 columns</p>\n",
       "</div>"
      ],
      "text/plain": [
       "                 ID   Year_Birth         Income      Kidhome     Teenhome  \\\n",
       "count   2216.000000  2216.000000    2216.000000  2216.000000  2216.000000   \n",
       "mean    5588.353339  1968.820397   52247.251354     0.441787     0.505415   \n",
       "std     3249.376275    11.985554   25173.076661     0.536896     0.544181   \n",
       "min        0.000000  1893.000000    1730.000000     0.000000     0.000000   \n",
       "25%     2814.750000  1959.000000   35303.000000     0.000000     0.000000   \n",
       "50%     5458.500000  1970.000000   51381.500000     0.000000     0.000000   \n",
       "75%     8421.750000  1977.000000   68522.000000     1.000000     1.000000   \n",
       "max    11191.000000  1996.000000  666666.000000     2.000000     2.000000   \n",
       "\n",
       "           Recency     MntWines    MntFruits  MntMeatProducts  \\\n",
       "count  2216.000000  2216.000000  2216.000000      2216.000000   \n",
       "mean     49.012635   305.091606    26.356047       166.995939   \n",
       "std      28.948352   337.327920    39.793917       224.283273   \n",
       "min       0.000000     0.000000     0.000000         0.000000   \n",
       "25%      24.000000    24.000000     2.000000        16.000000   \n",
       "50%      49.000000   174.500000     8.000000        68.000000   \n",
       "75%      74.000000   505.000000    33.000000       232.250000   \n",
       "max      99.000000  1493.000000   199.000000      1725.000000   \n",
       "\n",
       "       MntFishProducts  ...  NumWebVisitsMonth  AcceptedCmp3  AcceptedCmp4  \\\n",
       "count      2216.000000  ...        2216.000000   2216.000000   2216.000000   \n",
       "mean         37.637635  ...           5.319043      0.073556      0.074007   \n",
       "std          54.752082  ...           2.425359      0.261106      0.261842   \n",
       "min           0.000000  ...           0.000000      0.000000      0.000000   \n",
       "25%           3.000000  ...           3.000000      0.000000      0.000000   \n",
       "50%          12.000000  ...           6.000000      0.000000      0.000000   \n",
       "75%          50.000000  ...           7.000000      0.000000      0.000000   \n",
       "max         259.000000  ...          20.000000      1.000000      1.000000   \n",
       "\n",
       "       AcceptedCmp5  AcceptedCmp1  AcceptedCmp2     Complain  Z_CostContact  \\\n",
       "count   2216.000000   2216.000000   2216.000000  2216.000000         2216.0   \n",
       "mean       0.073105      0.064079      0.013538     0.009477            3.0   \n",
       "std        0.260367      0.244950      0.115588     0.096907            0.0   \n",
       "min        0.000000      0.000000      0.000000     0.000000            3.0   \n",
       "25%        0.000000      0.000000      0.000000     0.000000            3.0   \n",
       "50%        0.000000      0.000000      0.000000     0.000000            3.0   \n",
       "75%        0.000000      0.000000      0.000000     0.000000            3.0   \n",
       "max        1.000000      1.000000      1.000000     1.000000            3.0   \n",
       "\n",
       "       Z_Revenue     Response  \n",
       "count     2216.0  2216.000000  \n",
       "mean        11.0     0.150271  \n",
       "std          0.0     0.357417  \n",
       "min         11.0     0.000000  \n",
       "25%         11.0     0.000000  \n",
       "50%         11.0     0.000000  \n",
       "75%         11.0     0.000000  \n",
       "max         11.0     1.000000  \n",
       "\n",
       "[8 rows x 26 columns]"
      ]
     },
     "execution_count": 42,
     "metadata": {},
     "output_type": "execute_result"
    }
   ],
   "source": [
    "# Summary statistics of numerical columns\n",
    "df.describe()"
   ]
  },
  {
   "cell_type": "code",
   "execution_count": 46,
   "id": "43689854-cd68-4cb1-ae3d-3fe49613d260",
   "metadata": {},
   "outputs": [
    {
     "data": {
      "text/plain": [
       "ID                      3249.376275\n",
       "Year_Birth                11.985554\n",
       "Income                 25173.076661\n",
       "Kidhome                    0.536896\n",
       "Teenhome                   0.544181\n",
       "Recency                   28.948352\n",
       "MntWines                 337.327920\n",
       "MntFruits                 39.793917\n",
       "MntMeatProducts          224.283273\n",
       "MntFishProducts           54.752082\n",
       "MntSweetProducts          41.072046\n",
       "MntGoldProds              51.815414\n",
       "NumDealsPurchases          1.923716\n",
       "NumWebPurchases            2.740951\n",
       "NumCatalogPurchases        2.926734\n",
       "NumStorePurchases          3.250785\n",
       "NumWebVisitsMonth          2.425359\n",
       "AcceptedCmp3               0.261106\n",
       "AcceptedCmp4               0.261842\n",
       "AcceptedCmp5               0.260367\n",
       "AcceptedCmp1               0.244950\n",
       "AcceptedCmp2               0.115588\n",
       "Complain                   0.096907\n",
       "Z_CostContact              0.000000\n",
       "Z_Revenue                  0.000000\n",
       "Response                   0.357417\n",
       "Name: std, dtype: float64"
      ]
     },
     "execution_count": 46,
     "metadata": {},
     "output_type": "execute_result"
    }
   ],
   "source": [
    "df.describe().iloc[2, :] # Distribution"
   ]
  },
  {
   "cell_type": "code",
   "execution_count": 48,
   "id": "8e410fa0-7e37-446e-a7c3-61382b10314c",
   "metadata": {},
   "outputs": [
    {
     "data": {
      "text/plain": [
       "ID                      5588.353339\n",
       "Year_Birth              1968.820397\n",
       "Income                 52247.251354\n",
       "Kidhome                    0.441787\n",
       "Teenhome                   0.505415\n",
       "Recency                   49.012635\n",
       "MntWines                 305.091606\n",
       "MntFruits                 26.356047\n",
       "MntMeatProducts          166.995939\n",
       "MntFishProducts           37.637635\n",
       "MntSweetProducts          27.028881\n",
       "MntGoldProds              43.965253\n",
       "NumDealsPurchases          2.323556\n",
       "NumWebPurchases            4.085289\n",
       "NumCatalogPurchases        2.671029\n",
       "NumStorePurchases          5.800993\n",
       "NumWebVisitsMonth          5.319043\n",
       "AcceptedCmp3               0.073556\n",
       "AcceptedCmp4               0.074007\n",
       "AcceptedCmp5               0.073105\n",
       "AcceptedCmp1               0.064079\n",
       "AcceptedCmp2               0.013538\n",
       "Complain                   0.009477\n",
       "Z_CostContact              3.000000\n",
       "Z_Revenue                 11.000000\n",
       "Response                   0.150271\n",
       "Name: mean, dtype: float64"
      ]
     },
     "execution_count": 48,
     "metadata": {},
     "output_type": "execute_result"
    }
   ],
   "source": [
    "df.describe().iloc[1, :] # mean"
   ]
  },
  {
   "cell_type": "markdown",
   "id": "cc0731dc-c4d1-4666-95b5-8e07dbe8e2a6",
   "metadata": {},
   "source": [
    "### Visualising Data Distributions"
   ]
  },
  {
   "cell_type": "code",
   "execution_count": 125,
   "id": "8a77930c-74aa-4086-a906-9fd62f703e61",
   "metadata": {},
   "outputs": [
    {
     "data": {
      "image/png": "[encoded data removed]",
      "text/plain": [
       "<Figure size 1000x800 with 4 Axes>"
      ]
     },
     "metadata": {},
     "output_type": "display_data"
    }
   ],
   "source": [
    "# Selecting specific columns related to personal and demographic information\n",
    "people = df[['ID', 'Year_Birth', 'Education', 'Marital_Status', 'Income', 'Kidhome', 'Teenhome', 'Dt_Customer', 'Recency', 'Complain']]\n",
    "\n",
    "# Selecting a subset of columns that are relevant for histogram visualization\n",
    "people_hist = df[['Income', 'Kidhome', 'Teenhome', 'Recency']]\n",
    "\n",
    "# Creating a list of column names for histogram plotting\n",
    "people_hist_list = list(people_hist.columns)\n",
    "\n",
    "# Setting the figure size for better visualization\n",
    "plt.figure(figsize=(10,8))\n",
    "\n",
    "# Looping through to create subplots for each histogram\n",
    "for n in range(1, people_hist.columns.value_counts().sum() + 1):\n",
    "    plt.subplot(2, 2, n)  # Creating a 2x2 grid for subplots\n",
    "    \n",
    "    for i in people_hist_list:\n",
    "        # Plotting histogram for the selected column with KDE (Kernel Density Estimation)\n",
    "        sns.histplot(df[i], kde=True)\n",
    "        \n",
    "        # Removing the column from the list to avoid duplicate plots\n",
    "        people_hist_list.remove(i)\n",
    "        break  # Exiting the inner loop after one iteration to plot one histogram per subplot\n"
   ]
  },
  {
   "cell_type": "code",
   "execution_count": 127,
   "id": "6985099b-8f22-4fc8-acd8-0af72173ed9a",
   "metadata": {},
   "outputs": [
    {
     "data": {
      "text/plain": [
       "<BarContainer object of 6 artists>"
      ]
     },
     "execution_count": 127,
     "metadata": {},
     "output_type": "execute_result"
    },
    {
     "data": {
      "image/png": "[encoded data removed]",
      "text/plain": [
       "<Figure size 640x480 with 1 Axes>"
      ]
     },
     "metadata": {},
     "output_type": "display_data"
    }
   ],
   "source": [
    "# Selecting specific columns related to product expenditures\n",
    "products = df[['MntWines', 'MntFruits', 'MntMeatProducts', 'MntFishProducts', 'MntSweetProducts', 'MntGoldProds']]\n",
    "\n",
    "# Calculating the sum of expenditures for each product category\n",
    "product_sum = products.sum()\n",
    "\n",
    "# Creating a horizontal bar plot to visualize the total spending per product category\n",
    "plt.barh(products.columns, product_sum)"
   ]
  },
  {
   "cell_type": "markdown",
   "id": "1811b1a5-9011-4103-8655-cf9c89e271c8",
   "metadata": {},
   "source": [
    "## Step 3: Customer Segmentation (Clustering)"
   ]
  },
  {
   "cell_type": "code",
   "execution_count": 135,
   "id": "1bd5cf9c-5b36-4055-86ac-f59ba5e465d1",
   "metadata": {},
   "outputs": [
    {
     "data": {
      "text/plain": [
       "Index(['ID', 'Year_Birth', 'Education', 'Marital_Status', 'Income', 'Kidhome',\n",
       "       'Teenhome', 'Dt_Customer', 'Recency', 'MntWines', 'MntFruits',\n",
       "       'MntMeatProducts', 'MntFishProducts', 'MntSweetProducts',\n",
       "       'MntGoldProds', 'NumDealsPurchases', 'NumWebPurchases',\n",
       "       'NumCatalogPurchases', 'NumStorePurchases', 'NumWebVisitsMonth',\n",
       "       'AcceptedCmp3', 'AcceptedCmp4', 'AcceptedCmp5', 'AcceptedCmp1',\n",
       "       'AcceptedCmp2', 'Complain', 'Z_CostContact', 'Z_Revenue', 'Response'],\n",
       "      dtype='object')"
      ]
     },
     "execution_count": 135,
     "metadata": {},
     "output_type": "execute_result"
    }
   ],
   "source": [
    "df.columns"
   ]
  },
  {
   "cell_type": "markdown",
   "id": "e0438f6c-da0c-40d4-8d13-d94a34aac6bd",
   "metadata": {},
   "source": [
    "### Feature Selection for Clustering"
   ]
  },
  {
   "cell_type": "code",
   "execution_count": 145,
   "id": "5097dd0b-5b0a-4fb4-b489-f1d0d9e12989",
   "metadata": {},
   "outputs": [],
   "source": [
    "# Select features for clustering\n",
    "features = df[['Income', \n",
    "               'MntWines', 'MntFruits', 'MntMeatProducts', 'MntFishProducts', 'MntSweetProducts', 'MntGoldProds',  # Spending habits\n",
    "               'NumDealsPurchases', 'Response',  # Promotion engagement\n",
    "               'NumWebPurchases', 'NumCatalogPurchases', 'NumStorePurchases', 'NumWebVisitsMonth', # Shopping behavior\n",
    "               'Recency']]  # Activity level\n",
    "\n",
    "# Standardize data\n",
    "scaler = StandardScaler()\n",
    "features_scaled = scaler.fit_transform(features)"
   ]
  },
  {
   "cell_type": "markdown",
   "id": "a15e4aff-cc6c-4abd-9833-8681ec58917a",
   "metadata": {},
   "source": [
    "### Apply K-Means Clustering"
   ]
  },
  {
   "cell_type": "code",
   "execution_count": 147,
   "id": "a6dcd3c0-a266-4c51-9475-f29f0d996287",
   "metadata": {},
   "outputs": [
    {
     "data": {
      "image/png": "[encoded data removed]",
      "text/plain": [
       "<Figure size 640x480 with 1 Axes>"
      ]
     },
     "metadata": {},
     "output_type": "display_data"
    }
   ],
   "source": [
    "# Test different cluster numbers\n",
    "inertia = []\n",
    "for k in range(2, 10):  # Trying different values of K\n",
    "    kmeans = KMeans(n_clusters=k, random_state=42)\n",
    "    kmeans.fit(features_scaled)\n",
    "    inertia.append(kmeans.inertia_)\n",
    "\n",
    "# Plot Elbow Method\n",
    "plt.plot(range(2, 10), inertia, marker='o')\n",
    "plt.xlabel('Number of Clusters')\n",
    "plt.ylabel('Inertia')\n",
    "plt.title('Elbow Method for Optimal K')\n",
    "plt.show()\n"
   ]
  },
  {
   "cell_type": "code",
   "execution_count": 155,
   "id": "193ea09f-083d-4f2b-9067-3de22c32c097",
   "metadata": {},
   "outputs": [
    {
     "data": {
      "text/html": [
       "<div>\n",
       "<style scoped>\n",
       "    .dataframe tbody tr th:only-of-type {\n",
       "        vertical-align: middle;\n",
       "    }\n",
       "\n",
       "    .dataframe tbody tr th {\n",
       "        vertical-align: top;\n",
       "    }\n",
       "\n",
       "    .dataframe thead th {\n",
       "        text-align: right;\n",
       "    }\n",
       "</style>\n",
       "<table border=\"1\" class=\"dataframe\">\n",
       "  <thead>\n",
       "    <tr style=\"text-align: right;\">\n",
       "      <th></th>\n",
       "      <th>ID</th>\n",
       "      <th>Cluster</th>\n",
       "    </tr>\n",
       "  </thead>\n",
       "  <tbody>\n",
       "    <tr>\n",
       "      <th>0</th>\n",
       "      <td>5524</td>\n",
       "      <td>1</td>\n",
       "    </tr>\n",
       "    <tr>\n",
       "      <th>1</th>\n",
       "      <td>2174</td>\n",
       "      <td>0</td>\n",
       "    </tr>\n",
       "    <tr>\n",
       "      <th>2</th>\n",
       "      <td>4141</td>\n",
       "      <td>2</td>\n",
       "    </tr>\n",
       "    <tr>\n",
       "      <th>3</th>\n",
       "      <td>6182</td>\n",
       "      <td>0</td>\n",
       "    </tr>\n",
       "    <tr>\n",
       "      <th>4</th>\n",
       "      <td>5324</td>\n",
       "      <td>2</td>\n",
       "    </tr>\n",
       "  </tbody>\n",
       "</table>\n",
       "</div>"
      ],
      "text/plain": [
       "     ID  Cluster\n",
       "0  5524        1\n",
       "1  2174        0\n",
       "2  4141        2\n",
       "3  6182        0\n",
       "4  5324        2"
      ]
     },
     "execution_count": 155,
     "metadata": {},
     "output_type": "execute_result"
    }
   ],
   "source": [
    "# Apply K-Means clustering\n",
    "kmeans = KMeans(n_clusters=5, random_state=42)\n",
    "df['Cluster'] = kmeans.fit_predict(features_scaled)\n",
    "\n",
    "# View cluster assignments\n",
    "df[['ID', 'Cluster']].head()"
   ]
  },
  {
   "cell_type": "markdown",
   "id": "a46687d6-e23b-46c2-91ba-28acb8b1ce23",
   "metadata": {},
   "source": [
    "### Visualising Clusters"
   ]
  },
  {
   "cell_type": "code",
   "execution_count": 157,
   "id": "c063212c-4d98-4e26-b09b-88ccf1c83a7a",
   "metadata": {},
   "outputs": [
    {
     "data": {
      "image/png": "[encoded data removed]",
      "text/plain": [
       "<Figure size 1000x600 with 1 Axes>"
      ]
     },
     "metadata": {},
     "output_type": "display_data"
    }
   ],
   "source": [
    "import seaborn as sns\n",
    "\n",
    "# Plot clusters using two key dimensions\n",
    "plt.figure(figsize=(10,6))\n",
    "sns.scatterplot(x=features_scaled[:, 0],  # Income\n",
    "                y=features_scaled[:, 1],  # Spending on Wines\n",
    "                hue=df['Cluster'], palette='viridis')\n",
    "\n",
    "plt.xlabel(\"Income\")\n",
    "plt.ylabel(\"Wine Spending\")\n",
    "plt.title(\"Customer Clusters Based on Spending\")\n",
    "plt.show()"
   ]
  },
  {
   "cell_type": "markdown",
   "id": "6bd5a58e-bead-416a-9dc5-ac348d48b818",
   "metadata": {},
   "source": [
    "### Interpretation of the Scatter Plot\n",
    "**Axes**: The x-axis represents Income, while the y-axis represents Spending on Wine.\n",
    "\n",
    "**Clusters**: The plot segments customers into five distinct clusters, each represented by different colors (purple, blue, teal, green, yellow).\n",
    "\n",
    "**Density**: Most customers have lower income and wine spending, while a few outliers extend toward higher income levels.\n",
    "\n",
    "#### Patterns & Insights:\n",
    "\n",
    "- Low Income, Low Wine Spending (Cluster 0 & 1 - Purple & Blue)\n",
    "\n",
    "    - These customers have low disposable income and spend less on wine.\n",
    "\n",
    "    - Might prefer lower-cost products or be less engaged with promotions.\n",
    " \n",
    "      \n",
    "\n",
    "- Moderate Income, Moderate Wine Spending (Cluster 2 - Teal)\n",
    "\n",
    "    - These individuals have mid-range income and spend moderately on wine.\n",
    "\n",
    "    - Could be casual buyers, purchasing wine occasionally but not heavily invested.\n",
    "      \n",
    "\n",
    "- Higher Income, High Wine Spending (Cluster 3 - Green & Cluster 4 - Yellow)\n",
    "\n",
    "    - These are high-income customers who spend significantly more on wine.\n",
    "\n",
    "    - Likely premium buyers, possibly more loyal to high-end brands."
   ]
  },
  {
   "cell_type": "markdown",
   "id": "0be2c00d-1bdb-47fe-a32e-c433b13beaf5",
   "metadata": {},
   "source": [
    "## Step 4: Predicting Customer Response to Marketing Campaigns"
   ]
  },
  {
   "cell_type": "markdown",
   "id": "7a03546c-d9bd-4ba5-a050-1fd2ca2cda45",
   "metadata": {},
   "source": [
    "### Define Target Variable"
   ]
  },
  {
   "cell_type": "code",
   "execution_count": 171,
   "id": "9a40e23a-06c6-47a4-bb76-b2a92b69ed50",
   "metadata": {},
   "outputs": [],
   "source": [
    "# Define target variable (Response to Campaign)\n",
    "y = df['Response'] \n",
    "\n",
    "# Select predictive features\n",
    "X = df[['Income', 'NumWebPurchases', 'NumStorePurchases', 'NumDealsPurchases']]"
   ]
  },
  {
   "cell_type": "markdown",
   "id": "faecbb9f-a567-4e6e-ac17-9dc2b870c880",
   "metadata": {},
   "source": [
    "### Train a Classification Model (Logistic Regression / Random Forest)"
   ]
  },
  {
   "cell_type": "code",
   "execution_count": 187,
   "id": "40665b8d-c805-4232-9b1f-766ff50e5c22",
   "metadata": {},
   "outputs": [
    {
     "name": "stdout",
     "output_type": "stream",
     "text": [
      "Class distribution before SMOTE: {0: 1501, 1: 271}\n",
      "Class distribution after SMOTE: {1: 1501, 0: 1501}\n",
      "Accuracy: 0.7612612612612613\n"
     ]
    }
   ],
   "source": [
    "# Split data\n",
    "X_train, X_test, y_train, y_test = train_test_split(X, y, test_size=0.2, random_state=42)\n",
    "\n",
    "# Apply SMOTE to balance the training set\n",
    "smote = SMOTE(random_state=42)\n",
    "X_train_resampled, y_train_resampled = smote.fit_resample(X_train, y_train)\n",
    "\n",
    "# Check class distribution after SMOTE\n",
    "print(\"Class distribution before SMOTE:\", dict(pd.Series(y_train).value_counts()))\n",
    "print(\"Class distribution after SMOTE:\", dict(pd.Series(y_train_resampled).value_counts()))\n",
    "\n",
    "# Train model\n",
    "model = RandomForestClassifier(n_estimators=100, random_state=42)\n",
    "model.fit(X_train_resampled, y_train_resampled)\n",
    "\n",
    "# Predict on test data\n",
    "y_pred = model.predict(X_test)\n",
    "\n",
    "# Evaluate accuracy\n",
    "print(\"Accuracy:\", accuracy_score(y_test, y_pred))"
   ]
  },
  {
   "cell_type": "code",
   "execution_count": 189,
   "id": "ff86ae42-52c7-4f8e-a306-d39f49a70f36",
   "metadata": {},
   "outputs": [
    {
     "data": {
      "image/png": "[encoded data removed]",
      "text/plain": [
       "<Figure size 640x480 with 2 Axes>"
      ]
     },
     "metadata": {},
     "output_type": "display_data"
    }
   ],
   "source": [
    "# Compute confusion matrix\n",
    "cm = confusion_matrix(y_test, y_pred)\n",
    "\n",
    "# Display confusion matrix\n",
    "disp = ConfusionMatrixDisplay(confusion_matrix=cm)\n",
    "disp.plot(cmap='Blues')\n",
    "plt.title(\"Confusion Matrix\")\n",
    "plt.show()"
   ]
  },
  {
   "cell_type": "code",
   "execution_count": 191,
   "id": "eb2bea9f-ecbb-457d-8fc7-8d1d8ad1f6c6",
   "metadata": {},
   "outputs": [
    {
     "data": {
      "text/plain": [
       "array([[304,  78],\n",
       "       [ 28,  34]], dtype=int64)"
      ]
     },
     "execution_count": 191,
     "metadata": {},
     "output_type": "execute_result"
    }
   ],
   "source": [
    "cm"
   ]
  },
  {
   "cell_type": "code",
   "execution_count": 193,
   "id": "006677da-39bb-4a96-a7d4-59e3e22faa6f",
   "metadata": {},
   "outputs": [
    {
     "name": "stdout",
     "output_type": "stream",
     "text": [
      "Classification Report:\n",
      "               precision    recall  f1-score   support\n",
      "\n",
      "           0       0.92      0.80      0.85       382\n",
      "           1       0.30      0.55      0.39        62\n",
      "\n",
      "    accuracy                           0.76       444\n",
      "   macro avg       0.61      0.67      0.62       444\n",
      "weighted avg       0.83      0.76      0.79       444\n",
      "\n",
      "AUC Score: 0.7245397736868772\n"
     ]
    }
   ],
   "source": [
    "# Detailed performance report\n",
    "print(\"Classification Report:\\n\", classification_report(y_test, y_pred))\n",
    "\n",
    "# If it's a binary classification, compute AUC score\n",
    "if len(set(y_test)) == 2:\n",
    "    print(\"AUC Score:\", roc_auc_score(y_test, model.predict_proba(X_test)[:, 1]))\n"
   ]
  },
  {
   "cell_type": "markdown",
   "id": "d67529c9-c5f3-4c1f-beb5-ef614233ab8c",
   "metadata": {},
   "source": [
    "# **Impact of SMOTE on Model Performance**\n",
    "\n",
    "## **1. Introduction**\n",
    "\n",
    "Machine learning models often struggle with **class imbalance**, where one class appears far more frequently than another. This imbalance causes the model to favor the **majority class**, leading to **poor recall for the minority class**.\n",
    "\n",
    "To mitigate this issue, we applied **SMOTE (Synthetic Minority Over-sampling Technique)** to create synthetic samples for the **minority class**, improving the classifier's ability to recognize it.\n",
    "\n",
    "This report compares the **Random Forest classifier's performance** before and after applying SMOTE.\n",
    "\n",
    "---\n",
    "\n",
    "## **2. Model Performance Before SMOTE**\n",
    "\n",
    "Before applying SMOTE, the classifier exhibited high accuracy but performed poorly on the minority class.\n",
    "\n",
    "### **Confusion Matrix Before SMOTE**\n",
    "\n",
    "| Actual \\ Predicted     | Class 0 | Class 1 |\n",
    "| ---------------------- | ------- | ------- |\n",
    "| **Class 0** (Negative) | 361     | 21      |\n",
    "| **Class 1** (Positive) | 44      | 18      |\n",
    "\n",
    "### **Classification Report Before SMOTE**\n",
    "\n",
    "```plaintext\n",
    "               precision    recall  f1-score   support\n",
    "\n",
    "           0       0.89      0.95      0.92       382\n",
    "           1       0.46      0.29      0.36        62\n",
    "\n",
    "    accuracy                           0.85       444\n",
    "   macro avg       0.68      0.62      0.64       444\n",
    "weighted avg       0.83      0.85      0.84       444\n",
    "```\n",
    "\n",
    "**AUC Score:** 0.73\n",
    "\n",
    "### **Observations**\n",
    "\n",
    "- High accuracy (85%), but imbalanced classification performance.\n",
    "- High recall for class 0 (95%), but low recall for class 1 (29%)—meaning most positive cases were misclassified.\n",
    "- Precision for class 1 was low (46%), showing unreliable predictions.\n",
    "- AUC Score: 0.73, suggesting moderate separation between classes.\n",
    "\n",
    "---\n",
    "\n",
    "## **3. Model Performance After SMOTE**\n",
    "\n",
    "After applying SMOTE, the model became more balanced, detecting more class 1 cases. However, this came at the cost of lower accuracy due to increased false positives.\n",
    "\n",
    "### **Confusion Matrix After SMOTE**\n",
    "\n",
    "| Actual \\ Predicted     | Class 0 | Class 1 |\n",
    "| ---------------------- | ------- | ------- |\n",
    "| **Class 0** (Negative) | 304     | 78      |\n",
    "| **Class 1** (Positive) | 28      | 34      |\n",
    "\n",
    "### **Classification Report After SMOTE**\n",
    "\n",
    "```plaintext\n",
    "               precision    recall  f1-score   support\n",
    "\n",
    "           0       0.92      0.80      0.85       382\n",
    "           1       0.30      0.55      0.39        62\n",
    "\n",
    "    accuracy                           0.76       444\n",
    "   macro avg       0.61      0.67      0.62       444\n",
    "weighted avg       0.83      0.76      0.79       444\n",
    "```\n",
    "\n",
    "**AUC Score:** 0.72\n",
    "\n",
    "### **Observations**\n",
    "\n",
    "- Accuracy dropped from 85% to 76% due to increased false positives.\n",
    "- Recall for class 1 improved significantly (from 29% → 55%), meaning more positive cases were correctly classified.\n",
    "- Precision for class 1 dropped (from 46% → 30%), indicating more false positives.\n",
    "- Class 0 recall dropped (95% → 80%), meaning fewer negative cases were correctly classified.\n",
    "- AUC Score remained stable (0.73 → 0.72), showing only a slight change in class separation.\n",
    "\n",
    "---\n",
    "\n",
    "## **4. Key Takeaways**\n",
    "\n",
    "- SMOTE improved recall for class 1, meaning more positive cases were identified.\n",
    "- False positives increased, lowering precision for class 1.\n",
    "- Accuracy dropped, but this is expected when balancing data.\n",
    "- AUC Score remained stable, suggesting consistent overall discrimination.\n",
    "- Further tuning is needed to optimize precision-recall balance.\n",
    "\n",
    "---\n",
    "\n",
    "## **5. Next Steps for Improvement**\n",
    "\n",
    "- **Adjust Classification Thresholds** to reduce false positives.\n",
    "- **Use Precision-Recall Tradeoffs** based on business needs.\n",
    "- **Try Alternative Oversampling Methods** like ADASYN for better synthetic sample generation.\n",
    "- **Tune Hyperparameters** (e.g., `class_weight='balanced'` in `RandomForestClassifier`).\n",
    "- **Experiment with Ensemble Models** (e.g., XGBoost, Gradient Boosting).\n",
    "\n",
    "By refining the model further, we can preserve recall while improving precision, leading to better classification performance."
   ]
  },
  {
   "cell_type": "markdown",
   "id": "5aa50f4a-2517-4049-a992-f5b33aa8b89b",
   "metadata": {},
   "source": [
    "# **Business Insights and Recommendations**\n",
    "\n",
    "### **Business Insights**\n",
    "\n",
    "1. **Customer Segments Identified**  \n",
    "   - The clustering analysis categorized customers into distinct groups based on spending habits, demographics, and engagement levels.  \n",
    "   - High-spending customers tend to purchase premium products like wines and gold, while budget-conscious customers focus on discounted items.  \n",
    "\n",
    "2. **Purchase Behavior Across Channels**  \n",
    "   - Online purchases and catalog purchases are significant revenue streams, but store purchases remain strong for specific customer segments.  \n",
    "   - Customers who visit the website frequently do not always make purchases, indicating possible issues with the online shopping experience.  \n",
    "\n",
    "3. **Marketing Campaign Effectiveness**  \n",
    "   - Campaign acceptance rates vary across customer segments. Some groups are more receptive to promotions, while others require personalized targeting.  \n",
    "   - Discounts and promotional offers significantly influence purchasing behavior, particularly among middle-income groups.  \n",
    "\n",
    "4. **Customer Loyalty and Recency of Purchase**  \n",
    "   - Customers who made recent purchases are more likely to engage in future transactions.  \n",
    "   - A small segment of customers shows high engagement with multiple campaigns, suggesting a strong brand affinity.  \n",
    "\n",
    "5. **Demographic Influence on Spending**  \n",
    "   - Education level and marital status impact spending patterns. Highly educated customers tend to spend more on luxury items.  \n",
    "   - Households with teenagers have different spending behaviors compared to those with only young children.  \n",
    "\n",
    "---\n",
    "\n",
    "### **Recommendations**\n",
    "\n",
    "1. **Improve Customer Retention with Targeted Engagement**  \n",
    "   - Focus retention efforts on high-value customers by offering loyalty rewards and personalized recommendations.  \n",
    "   - Implement follow-up strategies for customers who made purchases recently to encourage repeat transactions.  \n",
    "\n",
    "2. **Enhance Online Shopping Experience**  \n",
    "   - Optimize website usability and product recommendations to convert more website visits into sales.  \n",
    "   - Introduce AI-driven chat support or targeted pop-ups for frequent website visitors who have not made purchases.  \n",
    "\n",
    "3. **Optimize Marketing Campaigns Based on Segments**  \n",
    "   - Tailor promotions based on customer segmentation insights—offer premium experiences to high-spending customers and discounts to price-sensitive customers.  \n",
    "   - Run A/B tests to determine which marketing strategies work best for different segments.  \n",
    "\n",
    "4. **Expand Personalized Discounts and Offers**  \n",
    "   - Leverage past purchasing data to create personalized product bundles.  \n",
    "   - Offer time-sensitive discounts to encourage impulse purchases among mid-tier spenders.  \n",
    "\n",
    "5. **Develop a Data-Driven Customer Loyalty Program**  \n",
    "   - Implement tiered loyalty rewards based on spending levels and engagement frequency.  \n",
    "   - Provide exclusive early access to promotions for high-value customers.  \n",
    "\n",
    "By implementing these strategies, the company can maximize revenue, improve customer satisfaction, and increase overall marketing efficiency.\n"
   ]
  },
  {
   "cell_type": "code",
   "execution_count": null,
   "id": "1fcdc6d0-339f-482f-a0a2-60182fb78eb1",
   "metadata": {},
   "outputs": [],
   "source": []
  }
 ],
 "metadata": {
  "kernelspec": {
   "display_name": "Python 3 (ipykernel)",
   "language": "python",
   "name": "python3"
  },
  "language_info": {
   "codemirror_mode": {
    "name": "ipython",
    "version": 3
   },
   "file_extension": ".py",
   "mimetype": "text/x-python",
   "name": "python",
   "nbconvert_exporter": "python",
   "pygments_lexer": "ipython3",
   "version": "3.9.20"
  }
 },
 "nbformat": 4,
 "nbformat_minor": 5
}
